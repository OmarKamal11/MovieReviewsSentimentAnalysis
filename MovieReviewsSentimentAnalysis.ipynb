{
 "cells": [
  {
   "cell_type": "code",
   "execution_count": 87,
   "id": "5e248237",
   "metadata": {},
   "outputs": [
    {
     "data": {
      "text/plain": [
       "{'a',\n",
       " 'about',\n",
       " 'above',\n",
       " 'after',\n",
       " 'again',\n",
       " 'against',\n",
       " 'ain',\n",
       " 'all',\n",
       " 'am',\n",
       " 'an',\n",
       " 'and',\n",
       " 'any',\n",
       " 'are',\n",
       " 'aren',\n",
       " \"aren't\",\n",
       " 'as',\n",
       " 'at',\n",
       " 'be',\n",
       " 'because',\n",
       " 'been',\n",
       " 'before',\n",
       " 'being',\n",
       " 'below',\n",
       " 'between',\n",
       " 'both',\n",
       " 'but',\n",
       " 'by',\n",
       " 'can',\n",
       " 'couldn',\n",
       " \"couldn't\",\n",
       " 'd',\n",
       " 'did',\n",
       " 'didn',\n",
       " \"didn't\",\n",
       " 'do',\n",
       " 'does',\n",
       " 'doesn',\n",
       " \"doesn't\",\n",
       " 'doing',\n",
       " 'don',\n",
       " \"don't\",\n",
       " 'down',\n",
       " 'during',\n",
       " 'each',\n",
       " 'few',\n",
       " 'for',\n",
       " 'from',\n",
       " 'further',\n",
       " 'had',\n",
       " 'hadn',\n",
       " \"hadn't\",\n",
       " 'has',\n",
       " 'hasn',\n",
       " \"hasn't\",\n",
       " 'have',\n",
       " 'haven',\n",
       " \"haven't\",\n",
       " 'having',\n",
       " 'he',\n",
       " 'her',\n",
       " 'here',\n",
       " 'hers',\n",
       " 'herself',\n",
       " 'him',\n",
       " 'himself',\n",
       " 'his',\n",
       " 'how',\n",
       " 'i',\n",
       " 'if',\n",
       " 'in',\n",
       " 'into',\n",
       " 'is',\n",
       " 'isn',\n",
       " \"isn't\",\n",
       " 'it',\n",
       " \"it's\",\n",
       " 'its',\n",
       " 'itself',\n",
       " 'just',\n",
       " 'll',\n",
       " 'm',\n",
       " 'ma',\n",
       " 'me',\n",
       " 'mightn',\n",
       " \"mightn't\",\n",
       " 'more',\n",
       " 'most',\n",
       " 'mustn',\n",
       " \"mustn't\",\n",
       " 'my',\n",
       " 'myself',\n",
       " 'needn',\n",
       " \"needn't\",\n",
       " 'no',\n",
       " 'nor',\n",
       " 'not',\n",
       " 'now',\n",
       " 'o',\n",
       " 'of',\n",
       " 'off',\n",
       " 'on',\n",
       " 'once',\n",
       " 'only',\n",
       " 'or',\n",
       " 'other',\n",
       " 'our',\n",
       " 'ours',\n",
       " 'ourselves',\n",
       " 'out',\n",
       " 'over',\n",
       " 'own',\n",
       " 're',\n",
       " 's',\n",
       " 'same',\n",
       " 'shan',\n",
       " \"shan't\",\n",
       " 'she',\n",
       " \"she's\",\n",
       " 'should',\n",
       " \"should've\",\n",
       " 'shouldn',\n",
       " \"shouldn't\",\n",
       " 'so',\n",
       " 'some',\n",
       " 'such',\n",
       " 't',\n",
       " 'than',\n",
       " 'that',\n",
       " \"that'll\",\n",
       " 'the',\n",
       " 'their',\n",
       " 'theirs',\n",
       " 'them',\n",
       " 'themselves',\n",
       " 'then',\n",
       " 'there',\n",
       " 'these',\n",
       " 'they',\n",
       " 'this',\n",
       " 'those',\n",
       " 'through',\n",
       " 'to',\n",
       " 'too',\n",
       " 'under',\n",
       " 'until',\n",
       " 'up',\n",
       " 've',\n",
       " 'very',\n",
       " 'was',\n",
       " 'wasn',\n",
       " \"wasn't\",\n",
       " 'we',\n",
       " 'were',\n",
       " 'weren',\n",
       " \"weren't\",\n",
       " 'what',\n",
       " 'when',\n",
       " 'where',\n",
       " 'which',\n",
       " 'while',\n",
       " 'who',\n",
       " 'whom',\n",
       " 'why',\n",
       " 'will',\n",
       " 'with',\n",
       " 'won',\n",
       " \"won't\",\n",
       " 'wouldn',\n",
       " \"wouldn't\",\n",
       " 'y',\n",
       " 'you',\n",
       " \"you'd\",\n",
       " \"you'll\",\n",
       " \"you're\",\n",
       " \"you've\",\n",
       " 'your',\n",
       " 'yours',\n",
       " 'yourself',\n",
       " 'yourselves'}"
      ]
     },
     "execution_count": 87,
     "metadata": {},
     "output_type": "execute_result"
    }
   ],
   "source": [
    "import nltk\n",
    "from nltk.corpus import stopwords\n",
    "my_stopwords  = set(stopwords.words('english'))\n",
    "my_stopwords"
   ]
  },
  {
   "cell_type": "code",
   "execution_count": 88,
   "id": "32d7aed2",
   "metadata": {},
   "outputs": [
    {
     "data": {
      "text/html": [
       "<div>\n",
       "<style scoped>\n",
       "    .dataframe tbody tr th:only-of-type {\n",
       "        vertical-align: middle;\n",
       "    }\n",
       "\n",
       "    .dataframe tbody tr th {\n",
       "        vertical-align: top;\n",
       "    }\n",
       "\n",
       "    .dataframe thead th {\n",
       "        text-align: right;\n",
       "    }\n",
       "</style>\n",
       "<table border=\"1\" class=\"dataframe\">\n",
       "  <thead>\n",
       "    <tr style=\"text-align: right;\">\n",
       "      <th></th>\n",
       "      <th>review</th>\n",
       "      <th>sentiment</th>\n",
       "    </tr>\n",
       "  </thead>\n",
       "  <tbody>\n",
       "    <tr>\n",
       "      <th>0</th>\n",
       "      <td>One of the other reviewers has mentioned that ...</td>\n",
       "      <td>positive</td>\n",
       "    </tr>\n",
       "    <tr>\n",
       "      <th>1</th>\n",
       "      <td>A wonderful little production. &lt;br /&gt;&lt;br /&gt;The...</td>\n",
       "      <td>positive</td>\n",
       "    </tr>\n",
       "    <tr>\n",
       "      <th>2</th>\n",
       "      <td>I thought this was a wonderful way to spend ti...</td>\n",
       "      <td>positive</td>\n",
       "    </tr>\n",
       "    <tr>\n",
       "      <th>3</th>\n",
       "      <td>Basically there's a family where a little boy ...</td>\n",
       "      <td>negative</td>\n",
       "    </tr>\n",
       "    <tr>\n",
       "      <th>4</th>\n",
       "      <td>Petter Mattei's \"Love in the Time of Money\" is...</td>\n",
       "      <td>positive</td>\n",
       "    </tr>\n",
       "  </tbody>\n",
       "</table>\n",
       "</div>"
      ],
      "text/plain": [
       "                                              review sentiment\n",
       "0  One of the other reviewers has mentioned that ...  positive\n",
       "1  A wonderful little production. <br /><br />The...  positive\n",
       "2  I thought this was a wonderful way to spend ti...  positive\n",
       "3  Basically there's a family where a little boy ...  negative\n",
       "4  Petter Mattei's \"Love in the Time of Money\" is...  positive"
      ]
     },
     "execution_count": 88,
     "metadata": {},
     "output_type": "execute_result"
    }
   ],
   "source": [
    "import pandas as pd\n",
    "\n",
    "movies = pd.read_csv(\"F:\\\\movie_reviews.csv\")\n",
    "\n",
    "movies.head()"
   ]
  },
  {
   "cell_type": "code",
   "execution_count": 89,
   "id": "ca8759c6",
   "metadata": {},
   "outputs": [
    {
     "data": {
      "text/markdown": [
       "> One of the other reviewers has mentioned that after watching just 1 Oz episode you'll be hooked. They are right, as this is exactly what happened with me.<br /><br />The first thing that struck me about Oz was its brutality and unflinching scenes of violence, which set in right from the word GO. Trust me, this is not a show for the faint hearted or timid. This show pulls no punches with regards to drugs, sex or violence. Its is hardcore, in the classic use of the word.<br /><br />It is called OZ as that is the nickname given to the Oswald Maximum Security State Penitentary. It focuses mainly on Emerald City, an experimental section of the prison where all the cells have glass fronts and face inwards, so privacy is not high on the agenda. Em City is home to many..Aryans, Muslims, gangstas, Latinos, Christians, Italians, Irish and more....so scuffles, death stares, dodgy dealings and shady agreements are never far away.<br /><br />I would say the main appeal of the show is due to the fact that it goes where other shows wouldn't dare. Forget pretty pictures painted for mainstream audiences, forget charm, forget romance...OZ doesn't mess around. The first episode I ever saw struck me as so nasty it was surreal, I couldn't say I was ready for it, but as I watched more, I developed a taste for Oz, and got accustomed to the high levels of graphic violence. Not just violence, but injustice (crooked guards who'll be sold out for a nickel, inmates who'll kill on order and get away with it, well mannered, middle class inmates being turned into prison bitches due to their lack of street skills or prison experience) Watching Oz, you may become comfortable with what is uncomfortable viewing....thats if you can get in touch with your darker side."
      ],
      "text/plain": [
       "<IPython.core.display.Markdown object>"
      ]
     },
     "metadata": {},
     "output_type": "display_data"
    },
    {
     "name": "stdout",
     "output_type": "stream",
     "text": [
      "--------------------------------------\n"
     ]
    },
    {
     "data": {
      "text/markdown": [
       "> A wonderful little production. <br /><br />The filming technique is very unassuming- very old-time-BBC fashion and gives a comforting, and sometimes discomforting, sense of realism to the entire piece. <br /><br />The actors are extremely well chosen- Michael Sheen not only \"has got all the polari\" but he has all the voices down pat too! You can truly see the seamless editing guided by the references to Williams' diary entries, not only is it well worth the watching but it is a terrificly written and performed piece. A masterful production about one of the great master's of comedy and his life. <br /><br />The realism really comes home with the little things: the fantasy of the guard which, rather than use the traditional 'dream' techniques remains solid then disappears. It plays on our knowledge and our senses, particularly with the scenes concerning Orton and Halliwell and the sets (particularly of their flat with Halliwell's murals decorating every surface) are terribly well done."
      ],
      "text/plain": [
       "<IPython.core.display.Markdown object>"
      ]
     },
     "metadata": {},
     "output_type": "display_data"
    },
    {
     "name": "stdout",
     "output_type": "stream",
     "text": [
      "--------------------------------------\n"
     ]
    },
    {
     "data": {
      "text/markdown": [
       "> I thought this was a wonderful way to spend time on a too hot summer weekend, sitting in the air conditioned theater and watching a light-hearted comedy. The plot is simplistic, but the dialogue is witty and the characters are likable (even the well bread suspected serial killer). While some may be disappointed when they realize this is not Match Point 2: Risk Addiction, I thought it was proof that Woody Allen is still fully in control of the style many of us have grown to love.<br /><br />This was the most I'd laughed at one of Woody's comedies in years (dare I say a decade?). While I've never been impressed with Scarlet Johanson, in this she managed to tone down her \"sexy\" image and jumped right into a average, but spirited young woman.<br /><br />This may not be the crown jewel of his career, but it was wittier than \"Devil Wears Prada\" and more interesting than \"Superman\" a great comedy to go see with friends."
      ],
      "text/plain": [
       "<IPython.core.display.Markdown object>"
      ]
     },
     "metadata": {},
     "output_type": "display_data"
    },
    {
     "name": "stdout",
     "output_type": "stream",
     "text": [
      "--------------------------------------\n"
     ]
    },
    {
     "data": {
      "text/markdown": [
       "> Basically there's a family where a little boy (Jake) thinks there's a zombie in his closet & his parents are fighting all the time.<br /><br />This movie is slower than a soap opera... and suddenly, Jake decides to become Rambo and kill the zombie.<br /><br />OK, first of all when you're going to make a film you must Decide if its a thriller or a drama! As a drama the movie is watchable. Parents are divorcing & arguing like in real life. And then we have Jake with his closet which totally ruins all the film! I expected to see a BOOGEYMAN similar movie, and instead i watched a drama with some meaningless thriller spots.<br /><br />3 out of 10 just for the well playing parents & descent dialogs. As for the shots with Jake: just ignore them."
      ],
      "text/plain": [
       "<IPython.core.display.Markdown object>"
      ]
     },
     "metadata": {},
     "output_type": "display_data"
    },
    {
     "name": "stdout",
     "output_type": "stream",
     "text": [
      "--------------------------------------\n"
     ]
    },
    {
     "data": {
      "text/markdown": [
       "> Petter Mattei's \"Love in the Time of Money\" is a visually stunning film to watch. Mr. Mattei offers us a vivid portrait about human relations. This is a movie that seems to be telling us what money, power and success do to people in the different situations we encounter. <br /><br />This being a variation on the Arthur Schnitzler's play about the same theme, the director transfers the action to the present time New York where all these different characters meet and connect. Each one is connected in one way, or another to the next person, but no one seems to know the previous point of contact. Stylishly, the film has a sophisticated luxurious look. We are taken to see how these people live and the world they live in their own habitat.<br /><br />The only thing one gets out of all these souls in the picture is the different stages of loneliness each one inhabits. A big city is not exactly the best place in which human relations find sincere fulfillment, as one discerns is the case with most of the people we encounter.<br /><br />The acting is good under Mr. Mattei's direction. Steve Buscemi, Rosario Dawson, Carol Kane, Michael Imperioli, Adrian Grenier, and the rest of the talented cast, make these characters come alive.<br /><br />We wish Mr. Mattei good luck and await anxiously for his next work."
      ],
      "text/plain": [
       "<IPython.core.display.Markdown object>"
      ]
     },
     "metadata": {},
     "output_type": "display_data"
    },
    {
     "name": "stdout",
     "output_type": "stream",
     "text": [
      "--------------------------------------\n"
     ]
    }
   ],
   "source": [
    "from IPython.display import Markdown, display\n",
    "for i in range(5):\n",
    "    display(Markdown('> '+movies['review'][i]))\n",
    "    print('--------------------------------------')"
   ]
  },
  {
   "cell_type": "code",
   "execution_count": 90,
   "id": "88f9799b",
   "metadata": {},
   "outputs": [],
   "source": [
    "from nltk.stem import WordNetLemmatizer\n",
    "\n",
    "word_lemmatizer = WordNetLemmatizer()"
   ]
  },
  {
   "cell_type": "code",
   "execution_count": 91,
   "id": "1c488c94",
   "metadata": {},
   "outputs": [],
   "source": [
    "from nltk.tokenize import word_tokenize\n",
    "\n",
    "movies['movie_review']=movies['review'].apply(lambda x: ' '.join([word_lemmatizer.lemmatize(word.lower()) \\\n",
    "                                        for word in word_tokenize(str(x)) if len(word)>2 and word not in my_stopwords]))"
   ]
  },
  {
   "cell_type": "code",
   "execution_count": 92,
   "id": "052508b0",
   "metadata": {},
   "outputs": [
    {
     "data": {
      "text/markdown": [
       "> one reviewer mentioned watching episode 'll hooked they right exactly happened me. the first thing struck brutality unflinching scene violence set right word trust show faint hearted timid this show pull punch regard drug sex violence it hardcore classic use word. called nickname given oswald maximum security state penitentary focus mainly emerald city experimental section prison cell glass front face inwards privacy high agenda city home many aryan muslim gangsta latino christian italian irish .... scuffle death stare dodgy dealing shady agreement never far away. would say main appeal show due fact go show would n't dare forget pretty picture painted mainstream audience forget charm forget romance ... n't mess around the first episode ever saw struck nasty surreal could n't say ready watched developed taste got accustomed high level graphic violence not violence injustice crooked guard 'll sold nickel inmate 'll kill order get away well mannered middle class inmate turned prison bitch due lack street skill prison experience watching may become comfortable uncomfortable viewing .... thats get touch darker side"
      ],
      "text/plain": [
       "<IPython.core.display.Markdown object>"
      ]
     },
     "metadata": {},
     "output_type": "display_data"
    },
    {
     "name": "stdout",
     "output_type": "stream",
     "text": [
      "--------------------------------------\n"
     ]
    },
    {
     "data": {
      "text/markdown": [
       "> wonderful little production the filming technique unassuming- old-time-bbc fashion give comforting sometimes discomforting sense realism entire piece the actor extremely well chosen- michael sheen got polari voice pat you truly see seamless editing guided reference williams diary entry well worth watching terrificly written performed piece masterful production one great master comedy life the realism really come home little thing fantasy guard rather use traditional 'dream technique remains solid disappears play knowledge sens particularly scene concerning orton halliwell set particularly flat halliwell mural decorating every surface terribly well done"
      ],
      "text/plain": [
       "<IPython.core.display.Markdown object>"
      ]
     },
     "metadata": {},
     "output_type": "display_data"
    },
    {
     "name": "stdout",
     "output_type": "stream",
     "text": [
      "--------------------------------------\n"
     ]
    },
    {
     "data": {
      "text/markdown": [
       "> thought wonderful way spend time hot summer weekend sitting air conditioned theater watching light-hearted comedy the plot simplistic dialogue witty character likable even well bread suspected serial killer while may disappointed realize match point risk addiction thought proof woody allen still fully control style many grown love. this laughed one woody comedy year dare say decade while 've never impressed scarlet johanson managed tone sexy image jumped right average spirited young woman. this may crown jewel career wittier devil wear prada interesting superman great comedy see friend"
      ],
      "text/plain": [
       "<IPython.core.display.Markdown object>"
      ]
     },
     "metadata": {},
     "output_type": "display_data"
    },
    {
     "name": "stdout",
     "output_type": "stream",
     "text": [
      "--------------------------------------\n"
     ]
    },
    {
     "data": {
      "text/markdown": [
       "> basically family little boy jake think zombie closet parent fighting time. this movie slower soap opera ... suddenly jake decides become rambo kill zombie. first 're going make film must decide thriller drama drama movie watchable parent divorcing arguing like real life and jake closet totally ruin film expected see boogeyman similar movie instead watched drama meaningless thriller spots. well playing parent descent dialog shot jake ignore"
      ],
      "text/plain": [
       "<IPython.core.display.Markdown object>"
      ]
     },
     "metadata": {},
     "output_type": "display_data"
    },
    {
     "name": "stdout",
     "output_type": "stream",
     "text": [
      "--------------------------------------\n"
     ]
    },
    {
     "data": {
      "text/markdown": [
       "> petter mattei love time money visually stunning film watch mr. mattei offer vivid portrait human relation this movie seems telling money power success people different situation encounter this variation arthur schnitzler play theme director transfer action present time new york different character meet connect each one connected one way another next person one seems know previous point contact stylishly film sophisticated luxurious look taken see people live world live habitat. the thing one get soul picture different stage loneliness one inhabits big city exactly best place human relation find sincere fulfillment one discerns case people encounter. the acting good mr. mattei direction steve buscemi rosario dawson carol kane michael imperioli adrian grenier rest talented cast make character come alive. wish mr. mattei good luck await anxiously next work"
      ],
      "text/plain": [
       "<IPython.core.display.Markdown object>"
      ]
     },
     "metadata": {},
     "output_type": "display_data"
    },
    {
     "name": "stdout",
     "output_type": "stream",
     "text": [
      "--------------------------------------\n"
     ]
    }
   ],
   "source": [
    "from IPython.display import Markdown, display\n",
    "for i in range(5):\n",
    "    display(Markdown('> '+movies['movie_review'][i]))\n",
    "    print('--------------------------------------')"
   ]
  },
  {
   "cell_type": "code",
   "execution_count": 93,
   "id": "d88dd955",
   "metadata": {},
   "outputs": [],
   "source": [
    "movies=movies.drop(\"review\",axis=\"columns\")"
   ]
  },
  {
   "cell_type": "code",
   "execution_count": 94,
   "id": "50e00452",
   "metadata": {},
   "outputs": [
    {
     "data": {
      "text/plain": [
       "(50000, 2)"
      ]
     },
     "execution_count": 94,
     "metadata": {},
     "output_type": "execute_result"
    }
   ],
   "source": [
    "movies.shape"
   ]
  },
  {
   "cell_type": "code",
   "execution_count": 95,
   "id": "e6942cd7",
   "metadata": {},
   "outputs": [
    {
     "data": {
      "text/html": [
       "<div>\n",
       "<style scoped>\n",
       "    .dataframe tbody tr th:only-of-type {\n",
       "        vertical-align: middle;\n",
       "    }\n",
       "\n",
       "    .dataframe tbody tr th {\n",
       "        vertical-align: top;\n",
       "    }\n",
       "\n",
       "    .dataframe thead th {\n",
       "        text-align: right;\n",
       "    }\n",
       "</style>\n",
       "<table border=\"1\" class=\"dataframe\">\n",
       "  <thead>\n",
       "    <tr style=\"text-align: right;\">\n",
       "      <th></th>\n",
       "      <th>sentiment</th>\n",
       "      <th>movie_review</th>\n",
       "    </tr>\n",
       "  </thead>\n",
       "  <tbody>\n",
       "    <tr>\n",
       "      <th>count</th>\n",
       "      <td>50000</td>\n",
       "      <td>50000</td>\n",
       "    </tr>\n",
       "    <tr>\n",
       "      <th>unique</th>\n",
       "      <td>2</td>\n",
       "      <td>49574</td>\n",
       "    </tr>\n",
       "    <tr>\n",
       "      <th>top</th>\n",
       "      <td>positive</td>\n",
       "      <td>loved today show variety solely cooking would ...</td>\n",
       "    </tr>\n",
       "    <tr>\n",
       "      <th>freq</th>\n",
       "      <td>25000</td>\n",
       "      <td>5</td>\n",
       "    </tr>\n",
       "  </tbody>\n",
       "</table>\n",
       "</div>"
      ],
      "text/plain": [
       "       sentiment                                       movie_review\n",
       "count      50000                                              50000\n",
       "unique         2                                              49574\n",
       "top     positive  loved today show variety solely cooking would ...\n",
       "freq       25000                                                  5"
      ]
     },
     "execution_count": 95,
     "metadata": {},
     "output_type": "execute_result"
    }
   ],
   "source": [
    "movies.describe()"
   ]
  },
  {
   "cell_type": "code",
   "execution_count": 96,
   "id": "654bc950",
   "metadata": {},
   "outputs": [
    {
     "name": "stdout",
     "output_type": "stream",
     "text": [
      "<class 'pandas.core.frame.DataFrame'>\n",
      "RangeIndex: 50000 entries, 0 to 49999\n",
      "Data columns (total 2 columns):\n",
      " #   Column        Non-Null Count  Dtype \n",
      "---  ------        --------------  ----- \n",
      " 0   sentiment     50000 non-null  object\n",
      " 1   movie_review  50000 non-null  object\n",
      "dtypes: object(2)\n",
      "memory usage: 781.4+ KB\n"
     ]
    }
   ],
   "source": [
    "movies.info()"
   ]
  },
  {
   "cell_type": "code",
   "execution_count": 97,
   "id": "e37d47d0",
   "metadata": {},
   "outputs": [
    {
     "data": {
      "text/plain": [
       "sentiment       0\n",
       "movie_review    0\n",
       "dtype: int64"
      ]
     },
     "execution_count": 97,
     "metadata": {},
     "output_type": "execute_result"
    }
   ],
   "source": [
    "movies.isnull().sum()"
   ]
  },
  {
   "cell_type": "code",
   "execution_count": 98,
   "id": "6884c9b1",
   "metadata": {},
   "outputs": [
    {
     "data": {
      "text/plain": [
       "positive    25000\n",
       "negative    25000\n",
       "Name: sentiment, dtype: int64"
      ]
     },
     "execution_count": 98,
     "metadata": {},
     "output_type": "execute_result"
    }
   ],
   "source": [
    "movies[\"sentiment\"].value_counts()"
   ]
  },
  {
   "cell_type": "code",
   "execution_count": 105,
   "id": "3bdc3368",
   "metadata": {},
   "outputs": [],
   "source": [
    "from sklearn.model_selection import train_test_split\n",
    "\n",
    "X=movies[\"movie_review\"]\n",
    "y=movies[\"sentiment\"]\n",
    "\n",
    "X_train,X_test,y_train,y_test = train_test_split(X,y,train_size=0.8,test_size=0.2)"
   ]
  },
  {
   "cell_type": "code",
   "execution_count": 106,
   "id": "c0784b52",
   "metadata": {},
   "outputs": [],
   "source": [
    "from sklearn.feature_extraction.text import TfidfVectorizer\n",
    "from sklearn.pipeline import Pipeline\n",
    "from sklearn.svm import LinearSVC\n",
    "\n",
    "lsvc_steps = [(\"vector\",TfidfVectorizer()),\n",
    "             (\"lsvc\",LinearSVC())]"
   ]
  },
  {
   "cell_type": "code",
   "execution_count": 107,
   "id": "b7a1b31e",
   "metadata": {},
   "outputs": [],
   "source": [
    "my_pipeline = Pipeline(lsvc_steps)\n",
    "my_model = my_pipeline.fit(X_train,y_train)\n",
    "prediction = my_pipeline.predict(X_test)"
   ]
  },
  {
   "cell_type": "code",
   "execution_count": 108,
   "id": "67633d12",
   "metadata": {},
   "outputs": [
    {
     "name": "stdout",
     "output_type": "stream",
     "text": [
      "[[4475  472]\n",
      " [ 523 4530]]\n",
      "              precision    recall  f1-score   support\n",
      "\n",
      "    negative       0.90      0.90      0.90      4947\n",
      "    positive       0.91      0.90      0.90      5053\n",
      "\n",
      "    accuracy                           0.90     10000\n",
      "   macro avg       0.90      0.90      0.90     10000\n",
      "weighted avg       0.90      0.90      0.90     10000\n",
      "\n",
      "The accuracy of the SVC model will be ----> 90.05 %\n"
     ]
    }
   ],
   "source": [
    "from sklearn import metrics\n",
    "\n",
    "print(metrics.confusion_matrix(prediction,y_test))\n",
    "print(metrics.classification_report(prediction,y_test))\n",
    "print(f'The accuracy of the SVC model will be ----> {metrics.accuracy_score(prediction,y_test)*100} %')"
   ]
  },
  {
   "cell_type": "code",
   "execution_count": 110,
   "id": "a2e9f7f7",
   "metadata": {},
   "outputs": [
    {
     "name": "stdout",
     "output_type": "stream",
     "text": [
      "negative\n"
     ]
    }
   ],
   "source": [
    "print(my_pipeline.predict([\"how do films like mouse hunt get into theatres ? \\\n",
    "isn't there a law or something ? this diabolical load of claptrap from steven speilberg's dreamworks studio\\\n",
    "is hollywood family fare at its deadly worst . mouse hunt takes the bare threads of a plot and tries to prop it up with\\\n",
    "overacting and flat-out stupid slapstick that makes comedies like jingle all the way look decent by comparison .\\\n",
    "writer adam rifkin and director gore verbinski are the names chiefly responsible for this swill .\\\n",
    "the plot , for what its worth , concerns two brothers ( nathan lane and an appalling lee evens ) who inherit\\\n",
    "a poorly run string factory and a seemingly worthless house from their eccentric father . \\\n",
    "deciding to check out the long-abandoned house , they soon learn that it's worth a fortune and set about selling it\\\n",
    "in auction to the highest bidder . but battling them at every turn is a very smart mouse ,\\\n",
    "happy with his run-down little abode and wanting it to stay that way .\\\n",
    "the story alternates between unfunny scenes of the brothers bickering over what to do with\\\n",
    "their inheritance and endless action sequences as the two take on their increasingly determined furry foe .\\\n",
    "whatever promise the film starts with soon deteriorates into boring dialogue ,\\\n",
    "terrible overacting , and increasingly uninspired slapstick that becomes all sound and fury , signifying nothing .\\\n",
    "the script becomes so unspeakably bad that the best line poor lee evens can utter after another run in with the rodent is :\\\n",
    "' i hate that mouse ' .oh cringe ! this is home alone all over again , and ten times worse .\\\n",
    "one touching scene early on is worth mentioning . we follow the mouse through a maze of walls and pipes until\\\n",
    "he arrives at his makeshift abode somewhere in a wall . he jumps into a tiny bed ,\\\n",
    "pulls up a makeshift sheet and snuggles up to sleep , seemingly happy and just wanting to be left alone .\\\n",
    "it's a magical little moment in an otherwise soulless film .\\\n",
    "a message to speilberg : if you want dreamworks to be associated with some kind of artistic credibility ,\\\n",
    "then either give all concerned in mouse hunt a swift kick up the arse or hire yourself some decent writers and directors .\\\n",
    "this kind of rubbish will just not do at all .\"])[0])"
   ]
  },
  {
   "cell_type": "code",
   "execution_count": 111,
   "id": "14d9b1d6",
   "metadata": {},
   "outputs": [
    {
     "name": "stdout",
     "output_type": "stream",
     "text": [
      "positive\n"
     ]
    }
   ],
   "source": [
    "print(my_pipeline.predict([\"this has been an extraordinary year for australian films .\\\n",
    "' shine ' has just scooped the pool at the australian film institute awards ,\\\n",
    "picking up best film , best actor , best director etc . to that we can add the gritty ' life ' \\\n",
    "( the anguish , courage and friendship of a group of male prisoners in the hiv-positive section of a jail )\\\n",
    "and ' love and other catastrophes ' ( a low budget gem about straight and gay love on and near a university campus ) . \\\n",
    "i can't recall a year in which such a rich and varied celluloid library was unleashed from australia . \\\n",
    "' shine ' was one bookend . stand by for the other one : ' dead heart ' . \\\n",
    "from the opening credits the theme of division is established . the cast credits have clear and distinct lines \\\n",
    "separating their first and last names . bryan | brown . in a desert settlement , hundreds of kilometres from the nearest town ,\\\n",
    "there is an uneasy calm between the local aboriginals and the handful of white settlers who live nearby .\\\n",
    "the local police officer has the task of enforcing ' white man's justice '\\\n",
    "to the aboriginals . these are people with a proud 40 , 000 year heritage behind them . \\\n",
    "naturally , this includes their own system of justice ; key to which is ' payback ' . \\\n",
    "an eye for an eye . revenge . usually extracted by the spearing through of the recipient's thigh .\\\n",
    "brown , as the officer , manages quite well to keep the balance . he admits that he has to 'bend the rules' a bit , \\\n",
    "including actively encouraging at least one brutal ' payback ' . \\\n",
    "( be warned that this scene , near the start , is not for the squeamish ) . the local priest - an aboriginal ,\\\n",
    "but in the ' white fellas ' church - has a foot on either side of the line . \\\n",
    "he is , figuratively and literally , in both camps . ernie dingo brings a great deal of understanding \\\n",
    "to this role as the man in the middle . he is part churchman and part politician . \\\n",
    "however the tension , like the heat , flies and dust , is always there. whilst her husband - the local teacher - is in church ,\\\n",
    "white lady kate ( milliken ) and her aborginal friend tony , ( pedersen ) have gone off into the hills .\\\n",
    "he takes her to a sacred site , even today strictly men-only . she appears to not know this .\\\n",
    "tony tells her that this is a special place , an initiation place . he then makes love to her , \\\n",
    "surrounded by ancient rock art . the community finds out about this sacrilegious act and it's payback time . \\\n",
    "the fuse is lit and the brittle inter-racial peace is shattered . everyone is affected in the fall out . \\\n",
    "to say more is to give away the details of this finely crafted film . suffice to say it's a rewarding experience . \\\n",
    "bryan brown , acting and co-producing , is the pivotal character . his officer is real , human and therefore flawed . \\\n",
    "brown comments that he expects audiences to feel warmth towards the man , then suddenly feel angry about him .\\\n",
    "it wasn't long ago that i visited central australia - ayers rock ( uluru ) and alice springs - for the first time .\\\n",
    "the wide-screen cinematography shows the dead heart of australia in a way that captures it's vicious beauty ,\\\n",
    "but never deteriorates into a moving slide show , in which the gorgeous background dominates those pesky actors \\\n",
    "in the foreground . the cultural clash has provided the thesis for many a film ; from the western to the birdcage .\\\n",
    "at least three excellent australian films have covered the aboriginal people and the line between them \\\n",
    "and we anglo-saxon 'invaders' : ' jedda ' , ' the chant of jimmie blacksmith ' and ' the last wave ' . \\\n",
    "in a year when the race 'debate' has reared up in australia , it is nourishing to see such an intelligent , \\\n",
    "non-judgemental film as ' dead heart ' . the aboriginal priest best sums this up . \\\n",
    "he is asked to say if he is a ' black fella or white fella ' .\"])[0])"
   ]
  },
  {
   "cell_type": "code",
   "execution_count": null,
   "id": "794823da",
   "metadata": {},
   "outputs": [],
   "source": []
  }
 ],
 "metadata": {
  "kernelspec": {
   "display_name": "Python 3 (ipykernel)",
   "language": "python",
   "name": "python3"
  },
  "language_info": {
   "codemirror_mode": {
    "name": "ipython",
    "version": 3
   },
   "file_extension": ".py",
   "mimetype": "text/x-python",
   "name": "python",
   "nbconvert_exporter": "python",
   "pygments_lexer": "ipython3",
   "version": "3.9.13"
  }
 },
 "nbformat": 4,
 "nbformat_minor": 5
}
